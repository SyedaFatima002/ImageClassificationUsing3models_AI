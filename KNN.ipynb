{
  "cells": [
    {
      "cell_type": "code",
      "execution_count": null,
      "metadata": {
        "colab": {
          "base_uri": "https://localhost:8080/"
        },
        "id": "mueYVg-voywz",
        "outputId": "db2217d7-9457-4643-86c1-8bb2db22dbb5"
      },
      "outputs": [
        {
          "output_type": "stream",
          "name": "stdout",
          "text": [
            "Mounted at /content/data\n"
          ]
        }
      ],
      "source": [
        "from google.colab import drive\n",
        "drive.mount('/content/data')"
      ]
    },
    {
      "cell_type": "code",
      "execution_count": null,
      "metadata": {
        "colab": {
          "base_uri": "https://localhost:8080/"
        },
        "id": "AWMyaGbhxRAI",
        "outputId": "87ff9110-dc53-4501-c50e-289bb85cf91b"
      },
      "outputs": [
        {
          "output_type": "stream",
          "name": "stdout",
          "text": [
            "Shape of training images array: (3036, 224, 224, 3)\n",
            "Shape of training labels array: (3036, 10)\n",
            "Shape of test images array: (107, 224, 224, 3)\n",
            "Shape of test labels array: (107, 10)\n"
          ]
        }
      ],
      "source": [
        "import numpy as np\n",
        "import os\n",
        "import cv2\n",
        "import random\n",
        "from sklearn.preprocessing import MultiLabelBinarizer\n",
        "\n",
        "def load_dataset(data_dir, num_classes, test=False):\n",
        "    images = []\n",
        "    labels = []\n",
        "\n",
        "    # Paths to images and their corresponding label files\n",
        "    images_dir = os.path.join(data_dir, \"images\")\n",
        "    labels_dir = os.path.join(data_dir, \"labels\")\n",
        "\n",
        "    for image_name in os.listdir(images_dir):\n",
        "        image_path = os.path.join(images_dir, image_name)\n",
        "        # Preprocess the original image\n",
        "        #read the original image\n",
        "        original_image = cv2.imread(image_path)\n",
        "        #resize the original image\n",
        "        original_image = cv2.resize(original_image, (224, 224))\n",
        "        images.append(original_image)\n",
        "\n",
        "        # Apply rotation and translation augmentation (only for training data)\n",
        "        if not test:\n",
        "            # Randomly rotate the image by -15 to +15 degrees\n",
        "            angle = random.randint(-15, 15)\n",
        "            rows, cols, _ = original_image.shape\n",
        "            rotation_matrix = cv2.getRotationMatrix2D((cols / 2, rows / 2), angle, 1)\n",
        "            rotated_image = cv2.warpAffine(original_image, rotation_matrix, (cols, rows))\n",
        "\n",
        "            # Randomly translate the image by -10 to +10 pixels horizontally and vertically\n",
        "            tx = random.randint(-10, 10)\n",
        "            ty = random.randint(-10, 10)\n",
        "            translation_matrix = np.float32([[1, 0, tx], [0, 1, ty]])\n",
        "            translated_image = cv2.warpAffine(rotated_image, translation_matrix, (cols, rows))\n",
        "\n",
        "            # Append rotated and translated images\n",
        "            images.append(rotated_image)\n",
        "            images.append(translated_image)\n",
        "\n",
        "        # Read labels from the corresponding label file if it exists\n",
        "        label_file_path = os.path.join(labels_dir, image_name.replace(\".jpg\", \".txt\"))\n",
        "        if os.path.exists(label_file_path):\n",
        "            label_vector = []  # Initialize label vector\n",
        "            with open(label_file_path, 'r') as label_file:\n",
        "                # There can be multiple labels per image\n",
        "                for line in label_file:\n",
        "                    # Extract class index from the line\n",
        "                    class_index = int(line.split()[0])\n",
        "                    label_vector.append(class_index)\n",
        "            labels.append(label_vector)\n",
        "            # Duplicate labels for rotated and translated images (only for training data)\n",
        "            if not test:\n",
        "                labels.append(label_vector)\n",
        "                labels.append(label_vector)\n",
        "        else:\n",
        "            # If label file is missing, mark the label as an empty list\n",
        "            labels.append([])\n",
        "            # Duplicate labels for rotated and translated images (only for training data)\n",
        "            if not test:\n",
        "                labels.append([])\n",
        "                labels.append([])\n",
        "\n",
        "    # Convert labels to binary format using MultiLabelBinarizer\n",
        "    mlb = MultiLabelBinarizer(classes=range(num_classes))\n",
        "    labels = mlb.fit_transform(labels)\n",
        "\n",
        "    return np.array(images), labels\n",
        "\n",
        "# Specify the path to your dataset directories and the number of classes\n",
        "train_data_dir = \"/content/data/My Drive/AI_Project/train\"\n",
        "test_data_dir = \"/content/data/My Drive/AI_Project/test\"\n",
        "num_classes = 10\n",
        "\n",
        "# Load and preprocess the training dataset\n",
        "train_images, train_labels = load_dataset(train_data_dir, num_classes)\n",
        "print(\"Shape of training images array:\", train_images.shape)\n",
        "print(\"Shape of training labels array:\", train_labels.shape)\n",
        "\n",
        "# Load and preprocess the test dataset\n",
        "test_images, test_labels = load_dataset(test_data_dir, num_classes, test=True)\n",
        "print(\"Shape of test images array:\", test_images.shape)\n",
        "print(\"Shape of test labels array:\", test_labels.shape)\n"
      ]
    },
    {
      "cell_type": "code",
      "source": [
        "from sklearn.model_selection import train_test_split\n",
        "from sklearn.neighbors import KNeighborsClassifier\n",
        "from sklearn.metrics import precision_score\n",
        "import numpy as np\n",
        "\n",
        "X_train = train_images.reshape(train_images.shape[0], -1)  # Flatten images\n",
        "y_train = train_labels\n",
        "\n",
        "X_test = test_images.reshape(test_images.shape[0], -1)\n",
        "y_test = test_labels\n",
        "\n",
        "# Create a KNeighborsClassifier for each label\n",
        "knn_classifiers = [KNeighborsClassifier(n_neighbors=11, algorithm='auto', metric='euclidean') for _ in range(y_train.shape[1])]\n",
        "\n",
        "# Train each classifier on the corresponding label\n",
        "for i, classifier in enumerate(knn_classifiers):\n",
        "    classifier.fit(X_train, y_train[:, i])\n",
        "\n",
        "# Calculate accuracy for each label\n",
        "accuracies = [classifier.score(X_test, y_test[:, i]) for i, classifier in enumerate(knn_classifiers)]\n",
        "\n",
        "# Calculate overall accuracy with weighted average\n",
        "weighted_accuracies = [accuracy * len(y_test[:, i]) / len(y_test) for i, accuracy in enumerate(accuracies)]\n",
        "overall_accuracy = np.mean(accuracies)\n",
        "print(\"Overall Accuracy:\", overall_accuracy)\n",
        "\n",
        "# Initialize lists to store evaluation results\n",
        "precisions = []\n",
        "\n",
        "\n",
        "# Evaluate each classifier\n",
        "for i, classifier in enumerate(knn_classifiers):\n",
        "    # Predict binary labels\n",
        "    y_pred = classifier.predict(X_test)\n",
        "    # Calculate precision\n",
        "    precision = precision_score(y_test[:, i], y_pred, zero_division=1)\n",
        "    precisions.append(precision)\n",
        "\n",
        "\n",
        "# Calculate overall metrics\n",
        "overall_precision = np.mean(precisions)\n",
        "\n",
        "\n",
        "print(\"Overall Precision:\", overall_precision)\n",
        "\n"
      ],
      "metadata": {
        "colab": {
          "base_uri": "https://localhost:8080/"
        },
        "id": "zWFqXRKMZOiP",
        "outputId": "f44b3561-b75d-437e-bf43-235efcfd05a6"
      },
      "execution_count": null,
      "outputs": [
        {
          "output_type": "stream",
          "name": "stdout",
          "text": [
            "Overall Accuracy: 0.9093457943925234\n",
            "Overall Precision: 0.5\n"
          ]
        }
      ]
    }
  ],
  "metadata": {
    "colab": {
      "provenance": []
    },
    "kernelspec": {
      "display_name": "Python 3",
      "name": "python3"
    },
    "language_info": {
      "name": "python"
    }
  },
  "nbformat": 4,
  "nbformat_minor": 0
}